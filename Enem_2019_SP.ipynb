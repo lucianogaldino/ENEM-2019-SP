{
  "nbformat": 4,
  "nbformat_minor": 0,
  "metadata": {
    "colab": {
      "name": "Enem_2019_SP.ipynb",
      "provenance": [],
      "toc_visible": true,
      "mount_file_id": "1NiUS9MfAG4_7u_mb_FGppxRcLBfGe2tu",
      "authorship_tag": "ABX9TyO4I+NHCnNW0LtIoRxZ1WJM",
      "include_colab_link": true
    },
    "kernelspec": {
      "name": "python3",
      "display_name": "Python 3"
    }
  },
  "cells": [
    {
      "cell_type": "markdown",
      "metadata": {
        "id": "view-in-github",
        "colab_type": "text"
      },
      "source": [
        "<a href=\"https://colab.research.google.com/github/lucianogaldino/ENEM-2019-SP/blob/main/Enem_2019_SP.ipynb\" target=\"_parent\"><img src=\"https://colab.research.google.com/assets/colab-badge.svg\" alt=\"Open In Colab\"/></a>"
      ]
    },
    {
      "cell_type": "markdown",
      "metadata": {
        "id": "fQJ5CYV9Te0X"
      },
      "source": [
        "# **PROJETO ENEM 2019**"
      ]
    },
    {
      "cell_type": "markdown",
      "metadata": {
        "id": "kXFCCsVHTtTP"
      },
      "source": [
        "## Este projeto analisa os resultados do ENEM no estado de São Paulo no ano de 2019."
      ]
    },
    {
      "cell_type": "code",
      "metadata": {
        "id": "nWvIcticlCs2"
      },
      "source": [
        "import numpy as np\n",
        "import matplotlib.pyplot as plt\n",
        "import pandas as pd\n",
        "%matplotlib inline\n",
        "import seaborn as sns"
      ],
      "execution_count": 1,
      "outputs": []
    },
    {
      "cell_type": "markdown",
      "metadata": {
        "id": "5ZQ2nYhQUc3G"
      },
      "source": [
        "## Os dados foram extraídos do site do INEP:\n",
        "\n",
        "http://inep.gov.br/microdados"
      ]
    },
    {
      "cell_type": "code",
      "metadata": {
        "id": "LRIrwcC8kUhT"
      },
      "source": [
        "dados = pd.read_csv('/content/drive/My Drive/Colab Notebooks/Indicadores Educacionais/ENEM_SP_2019.csv', sep=',', encoding='iso-8859-1')"
      ],
      "execution_count": 2,
      "outputs": []
    },
    {
      "cell_type": "markdown",
      "metadata": {
        "id": "HQpyx_csdIvG"
      },
      "source": [
        "## **MINERAÇÃO DOS DADOS**"
      ]
    },
    {
      "cell_type": "code",
      "metadata": {
        "id": "Gol7BjFSuNs0",
        "outputId": "440637c7-45b5-4e31-9f42-13d6cddc3585",
        "colab": {
          "base_uri": "https://localhost:8080/",
          "height": 224
        }
      },
      "source": [
        "dados.head()"
      ],
      "execution_count": 3,
      "outputs": [
        {
          "output_type": "execute_result",
          "data": {
            "text/html": [
              "<div>\n",
              "<style scoped>\n",
              "    .dataframe tbody tr th:only-of-type {\n",
              "        vertical-align: middle;\n",
              "    }\n",
              "\n",
              "    .dataframe tbody tr th {\n",
              "        vertical-align: top;\n",
              "    }\n",
              "\n",
              "    .dataframe thead th {\n",
              "        text-align: right;\n",
              "    }\n",
              "</style>\n",
              "<table border=\"1\" class=\"dataframe\">\n",
              "  <thead>\n",
              "    <tr style=\"text-align: right;\">\n",
              "      <th></th>\n",
              "      <th>NU_INSCRICAO</th>\n",
              "      <th>NU_ANO</th>\n",
              "      <th>NO_MUNICIPIO_RESIDENCIA</th>\n",
              "      <th>SG_UF_RESIDENCIA</th>\n",
              "      <th>NU_IDADE</th>\n",
              "      <th>TP_SEXO</th>\n",
              "      <th>TP_COR_RACA</th>\n",
              "      <th>TP_NACIONALIDADE</th>\n",
              "      <th>TP_ESCOLA</th>\n",
              "      <th>IN_TREINEIRO</th>\n",
              "      <th>CO_ESCOLA</th>\n",
              "      <th>TP_PRESENCA_CN</th>\n",
              "      <th>TP_PRESENCA_CH</th>\n",
              "      <th>TP_PRESENCA_LC</th>\n",
              "      <th>TP_PRESENCA_MT</th>\n",
              "      <th>NU_NOTA_CN</th>\n",
              "      <th>NOTA_CN</th>\n",
              "      <th>NU_NOTA_CH</th>\n",
              "      <th>NOTA_CH</th>\n",
              "      <th>NU_NOTA_LC</th>\n",
              "      <th>NOTA_LC</th>\n",
              "      <th>NU_NOTA_MT</th>\n",
              "      <th>NOTA_MT</th>\n",
              "      <th>TP_LINGUA</th>\n",
              "      <th>TP_STATUS_REDACAO</th>\n",
              "      <th>NU_NOTA_COMP1</th>\n",
              "      <th>NU_NOTA_COMP2</th>\n",
              "      <th>NU_NOTA_COMP3</th>\n",
              "      <th>NU_NOTA_COMP4</th>\n",
              "      <th>NU_NOTA_COMP5</th>\n",
              "      <th>NU_NOTA_REDACAO</th>\n",
              "    </tr>\n",
              "  </thead>\n",
              "  <tbody>\n",
              "    <tr>\n",
              "      <th>0</th>\n",
              "      <td>1.900010e+11</td>\n",
              "      <td>2019</td>\n",
              "      <td>Santa Isabel</td>\n",
              "      <td>SP</td>\n",
              "      <td>22</td>\n",
              "      <td>M</td>\n",
              "      <td>3</td>\n",
              "      <td>1</td>\n",
              "      <td>1</td>\n",
              "      <td>0</td>\n",
              "      <td>NaN</td>\n",
              "      <td>1</td>\n",
              "      <td>1</td>\n",
              "      <td>1</td>\n",
              "      <td>1</td>\n",
              "      <td>5646.0</td>\n",
              "      <td>564.6</td>\n",
              "      <td>5858.0</td>\n",
              "      <td>585.8</td>\n",
              "      <td>5929.0</td>\n",
              "      <td>592.9</td>\n",
              "      <td>6002.0</td>\n",
              "      <td>600.2</td>\n",
              "      <td>0</td>\n",
              "      <td>1.0</td>\n",
              "      <td>160.0</td>\n",
              "      <td>200.0</td>\n",
              "      <td>180.0</td>\n",
              "      <td>200.0</td>\n",
              "      <td>200.0</td>\n",
              "      <td>940.0</td>\n",
              "    </tr>\n",
              "    <tr>\n",
              "      <th>1</th>\n",
              "      <td>1.900010e+11</td>\n",
              "      <td>2019</td>\n",
              "      <td>Pinhalzinho</td>\n",
              "      <td>SP</td>\n",
              "      <td>19</td>\n",
              "      <td>M</td>\n",
              "      <td>3</td>\n",
              "      <td>1</td>\n",
              "      <td>1</td>\n",
              "      <td>0</td>\n",
              "      <td>NaN</td>\n",
              "      <td>0</td>\n",
              "      <td>0</td>\n",
              "      <td>0</td>\n",
              "      <td>0</td>\n",
              "      <td>NaN</td>\n",
              "      <td>0.0</td>\n",
              "      <td>NaN</td>\n",
              "      <td>0.0</td>\n",
              "      <td>NaN</td>\n",
              "      <td>0.0</td>\n",
              "      <td>NaN</td>\n",
              "      <td>0.0</td>\n",
              "      <td>1</td>\n",
              "      <td>NaN</td>\n",
              "      <td>NaN</td>\n",
              "      <td>NaN</td>\n",
              "      <td>NaN</td>\n",
              "      <td>NaN</td>\n",
              "      <td>NaN</td>\n",
              "      <td>NaN</td>\n",
              "    </tr>\n",
              "    <tr>\n",
              "      <th>2</th>\n",
              "      <td>1.900010e+11</td>\n",
              "      <td>2019</td>\n",
              "      <td>São Paulo</td>\n",
              "      <td>SP</td>\n",
              "      <td>17</td>\n",
              "      <td>F</td>\n",
              "      <td>3</td>\n",
              "      <td>1</td>\n",
              "      <td>3</td>\n",
              "      <td>0</td>\n",
              "      <td>15567761.0</td>\n",
              "      <td>1</td>\n",
              "      <td>1</td>\n",
              "      <td>1</td>\n",
              "      <td>1</td>\n",
              "      <td>5762.0</td>\n",
              "      <td>576.2</td>\n",
              "      <td>6411.0</td>\n",
              "      <td>641.1</td>\n",
              "      <td>6343.0</td>\n",
              "      <td>634.3</td>\n",
              "      <td>7318.0</td>\n",
              "      <td>731.8</td>\n",
              "      <td>0</td>\n",
              "      <td>1.0</td>\n",
              "      <td>160.0</td>\n",
              "      <td>120.0</td>\n",
              "      <td>200.0</td>\n",
              "      <td>200.0</td>\n",
              "      <td>200.0</td>\n",
              "      <td>880.0</td>\n",
              "    </tr>\n",
              "    <tr>\n",
              "      <th>3</th>\n",
              "      <td>1.900010e+11</td>\n",
              "      <td>2019</td>\n",
              "      <td>São Bernardo do Campo</td>\n",
              "      <td>SP</td>\n",
              "      <td>19</td>\n",
              "      <td>M</td>\n",
              "      <td>3</td>\n",
              "      <td>1</td>\n",
              "      <td>2</td>\n",
              "      <td>0</td>\n",
              "      <td>35904958.0</td>\n",
              "      <td>1</td>\n",
              "      <td>1</td>\n",
              "      <td>1</td>\n",
              "      <td>1</td>\n",
              "      <td>4022.0</td>\n",
              "      <td>402.2</td>\n",
              "      <td>4248.0</td>\n",
              "      <td>424.8</td>\n",
              "      <td>5096.0</td>\n",
              "      <td>509.6</td>\n",
              "      <td>3932.0</td>\n",
              "      <td>393.2</td>\n",
              "      <td>1</td>\n",
              "      <td>1.0</td>\n",
              "      <td>80.0</td>\n",
              "      <td>160.0</td>\n",
              "      <td>120.0</td>\n",
              "      <td>100.0</td>\n",
              "      <td>100.0</td>\n",
              "      <td>560.0</td>\n",
              "    </tr>\n",
              "    <tr>\n",
              "      <th>4</th>\n",
              "      <td>1.900010e+11</td>\n",
              "      <td>2019</td>\n",
              "      <td>São Joaquim da Barra</td>\n",
              "      <td>SP</td>\n",
              "      <td>37</td>\n",
              "      <td>M</td>\n",
              "      <td>1</td>\n",
              "      <td>1</td>\n",
              "      <td>1</td>\n",
              "      <td>0</td>\n",
              "      <td>NaN</td>\n",
              "      <td>0</td>\n",
              "      <td>0</td>\n",
              "      <td>0</td>\n",
              "      <td>0</td>\n",
              "      <td>NaN</td>\n",
              "      <td>0.0</td>\n",
              "      <td>NaN</td>\n",
              "      <td>0.0</td>\n",
              "      <td>NaN</td>\n",
              "      <td>0.0</td>\n",
              "      <td>NaN</td>\n",
              "      <td>0.0</td>\n",
              "      <td>1</td>\n",
              "      <td>NaN</td>\n",
              "      <td>NaN</td>\n",
              "      <td>NaN</td>\n",
              "      <td>NaN</td>\n",
              "      <td>NaN</td>\n",
              "      <td>NaN</td>\n",
              "      <td>NaN</td>\n",
              "    </tr>\n",
              "  </tbody>\n",
              "</table>\n",
              "</div>"
            ],
            "text/plain": [
              "   NU_INSCRICAO  NU_ANO  ... NU_NOTA_COMP5 NU_NOTA_REDACAO\n",
              "0  1.900010e+11    2019  ...         200.0           940.0\n",
              "1  1.900010e+11    2019  ...           NaN             NaN\n",
              "2  1.900010e+11    2019  ...         200.0           880.0\n",
              "3  1.900010e+11    2019  ...         100.0           560.0\n",
              "4  1.900010e+11    2019  ...           NaN             NaN\n",
              "\n",
              "[5 rows x 31 columns]"
            ]
          },
          "metadata": {
            "tags": []
          },
          "execution_count": 3
        }
      ]
    },
    {
      "cell_type": "code",
      "metadata": {
        "id": "BFS6iDf4wYG3",
        "outputId": "98109a00-2bc5-4014-dce9-a28d903372bd",
        "colab": {
          "base_uri": "https://localhost:8080/"
        }
      },
      "source": [
        "#O número total de inscritos em São Paulo foi de 813772, sendo de 15,97% de todo o Brasil que foi de 5095308 inscritos. \n",
        "dados.shape"
      ],
      "execution_count": 4,
      "outputs": [
        {
          "output_type": "execute_result",
          "data": {
            "text/plain": [
              "(813772, 31)"
            ]
          },
          "metadata": {
            "tags": []
          },
          "execution_count": 4
        }
      ]
    },
    {
      "cell_type": "code",
      "metadata": {
        "id": "id5xhFK__XD8",
        "outputId": "89e42eba-95be-4872-dda9-6ebd74d4f48e",
        "colab": {
          "base_uri": "https://localhost:8080/"
        }
      },
      "source": [
        "# Análise dos tipos de atributos.\n",
        "dados.dtypes\n"
      ],
      "execution_count": 5,
      "outputs": [
        {
          "output_type": "execute_result",
          "data": {
            "text/plain": [
              "NU_INSCRICAO               float64\n",
              "NU_ANO                       int64\n",
              "NO_MUNICIPIO_RESIDENCIA     object\n",
              "SG_UF_RESIDENCIA            object\n",
              "NU_IDADE                     int64\n",
              "TP_SEXO                     object\n",
              "TP_COR_RACA                  int64\n",
              "TP_NACIONALIDADE             int64\n",
              "TP_ESCOLA                    int64\n",
              "IN_TREINEIRO                 int64\n",
              "CO_ESCOLA                  float64\n",
              "TP_PRESENCA_CN               int64\n",
              "TP_PRESENCA_CH               int64\n",
              "TP_PRESENCA_LC               int64\n",
              "TP_PRESENCA_MT               int64\n",
              "NU_NOTA_CN                 float64\n",
              "NOTA_CN                    float64\n",
              "NU_NOTA_CH                 float64\n",
              "NOTA_CH                    float64\n",
              "NU_NOTA_LC                 float64\n",
              "NOTA_LC                    float64\n",
              "NU_NOTA_MT                 float64\n",
              "NOTA_MT                    float64\n",
              "TP_LINGUA                    int64\n",
              "TP_STATUS_REDACAO          float64\n",
              "NU_NOTA_COMP1              float64\n",
              "NU_NOTA_COMP2              float64\n",
              "NU_NOTA_COMP3              float64\n",
              "NU_NOTA_COMP4              float64\n",
              "NU_NOTA_COMP5              float64\n",
              "NU_NOTA_REDACAO            float64\n",
              "dtype: object"
            ]
          },
          "metadata": {
            "tags": []
          },
          "execution_count": 5
        }
      ]
    },
    {
      "cell_type": "code",
      "metadata": {
        "id": "F_-iQxfFpTok",
        "outputId": "5b84d71e-38c8-4298-a223-23aa413104a1",
        "colab": {
          "base_uri": "https://localhost:8080/"
        }
      },
      "source": [
        "dados['NU_IDADE'].value_counts()"
      ],
      "execution_count": 6,
      "outputs": [
        {
          "output_type": "execute_result",
          "data": {
            "text/plain": [
              "17    219313\n",
              "18    147548\n",
              "19     81236\n",
              "16     59316\n",
              "20     53009\n",
              "       ...  \n",
              "4          1\n",
              "3          1\n",
              "91         1\n",
              "86         1\n",
              "2          1\n",
              "Name: NU_IDADE, Length: 80, dtype: int64"
            ]
          },
          "metadata": {
            "tags": []
          },
          "execution_count": 6
        }
      ]
    },
    {
      "cell_type": "code",
      "metadata": {
        "id": "tSlgvWBcNY7T",
        "outputId": "d4db0d3e-b883-4249-ec81-46c0bd3fe470",
        "colab": {
          "base_uri": "https://localhost:8080/",
          "height": 374
        }
      },
      "source": [
        "dados['NU_IDADE'].hist(bins=30, figsize=(8,6));"
      ],
      "execution_count": 7,
      "outputs": [
        {
          "output_type": "display_data",
          "data": {
            "image/png": "[encoded data removed]",
            "text/plain": [
              "<Figure size 576x432 with 1 Axes>"
            ]
          },
          "metadata": {
            "tags": [],
            "needs_background": "light"
          }
        }
      ]
    },
    {
      "cell_type": "code",
      "metadata": {
        "id": "8rDPKtGEFwR-",
        "outputId": "bf1e3417-a7a5-4b1a-9541-b5f658fc456d",
        "colab": {
          "base_uri": "https://localhost:8080/"
        }
      },
      "source": [
        "dados['NU_IDADE'].value_counts().sort_index()"
      ],
      "execution_count": 8,
      "outputs": [
        {
          "output_type": "execute_result",
          "data": {
            "text/plain": [
              "2     1\n",
              "3     1\n",
              "4     1\n",
              "5     2\n",
              "6     2\n",
              "     ..\n",
              "80    2\n",
              "81    3\n",
              "82    2\n",
              "86    1\n",
              "91    1\n",
              "Name: NU_IDADE, Length: 80, dtype: int64"
            ]
          },
          "metadata": {
            "tags": []
          },
          "execution_count": 8
        }
      ]
    },
    {
      "cell_type": "markdown",
      "metadata": {
        "id": "2dWK48PaVvXr"
      },
      "source": [
        "Alguns valores estranhos e curiosos: alguns inscritos com idades menores que 10 anos e maiores de 80 anos."
      ]
    },
    {
      "cell_type": "code",
      "metadata": {
        "id": "L6Kb8z7gqy9a"
      },
      "source": [
        "menores_12 = dados.query('NU_IDADE <= 12')['NO_MUNICIPIO_RESIDENCIA'].value_counts()"
      ],
      "execution_count": 9,
      "outputs": []
    },
    {
      "cell_type": "code",
      "metadata": {
        "id": "V-KFAIp6GO7E",
        "outputId": "c9dc6a18-47e7-47f9-a71e-ac256b6559df",
        "colab": {
          "base_uri": "https://localhost:8080/"
        }
      },
      "source": [
        "# Crianças abaixo de 11 anos, algumas abaixo de 6 anos aparecem como inscritas. Esse dados serão excluídos devido a alta probabilidade de erros.\n",
        "menores_12"
      ],
      "execution_count": 10,
      "outputs": [
        {
          "output_type": "execute_result",
          "data": {
            "text/plain": [
              "São Paulo                 5\n",
              "Araçatuba                 2\n",
              "Queiroz                   1\n",
              "Auriflama                 1\n",
              "Tambaú                    1\n",
              "Andradina                 1\n",
              "Angatuba                  1\n",
              "Ribeirão Preto            1\n",
              "Embu das Artes            1\n",
              "Assis                     1\n",
              "Sertãozinho               1\n",
              "Santana de Parnaíba       1\n",
              "São Bernardo do Campo     1\n",
              "Marília                   1\n",
              "Vargem Grande Paulista    1\n",
              "Bálsamo                   1\n",
              "Campinas                  1\n",
              "Name: NO_MUNICIPIO_RESIDENCIA, dtype: int64"
            ]
          },
          "metadata": {
            "tags": []
          },
          "execution_count": 10
        }
      ]
    },
    {
      "cell_type": "code",
      "metadata": {
        "id": "5LJCjuILHGE7"
      },
      "source": [
        "dados_maiores_11 = dados.loc[dados.NU_IDADE > 11]"
      ],
      "execution_count": 11,
      "outputs": []
    },
    {
      "cell_type": "code",
      "metadata": {
        "id": "osXcpcJ3La1S",
        "outputId": "d9121654-d999-409e-9e39-017a74a9f018",
        "colab": {
          "base_uri": "https://localhost:8080/",
          "height": 224
        }
      },
      "source": [
        "dados_maiores_11.head()"
      ],
      "execution_count": 12,
      "outputs": [
        {
          "output_type": "execute_result",
          "data": {
            "text/html": [
              "<div>\n",
              "<style scoped>\n",
              "    .dataframe tbody tr th:only-of-type {\n",
              "        vertical-align: middle;\n",
              "    }\n",
              "\n",
              "    .dataframe tbody tr th {\n",
              "        vertical-align: top;\n",
              "    }\n",
              "\n",
              "    .dataframe thead th {\n",
              "        text-align: right;\n",
              "    }\n",
              "</style>\n",
              "<table border=\"1\" class=\"dataframe\">\n",
              "  <thead>\n",
              "    <tr style=\"text-align: right;\">\n",
              "      <th></th>\n",
              "      <th>NU_INSCRICAO</th>\n",
              "      <th>NU_ANO</th>\n",
              "      <th>NO_MUNICIPIO_RESIDENCIA</th>\n",
              "      <th>SG_UF_RESIDENCIA</th>\n",
              "      <th>NU_IDADE</th>\n",
              "      <th>TP_SEXO</th>\n",
              "      <th>TP_COR_RACA</th>\n",
              "      <th>TP_NACIONALIDADE</th>\n",
              "      <th>TP_ESCOLA</th>\n",
              "      <th>IN_TREINEIRO</th>\n",
              "      <th>CO_ESCOLA</th>\n",
              "      <th>TP_PRESENCA_CN</th>\n",
              "      <th>TP_PRESENCA_CH</th>\n",
              "      <th>TP_PRESENCA_LC</th>\n",
              "      <th>TP_PRESENCA_MT</th>\n",
              "      <th>NU_NOTA_CN</th>\n",
              "      <th>NOTA_CN</th>\n",
              "      <th>NU_NOTA_CH</th>\n",
              "      <th>NOTA_CH</th>\n",
              "      <th>NU_NOTA_LC</th>\n",
              "      <th>NOTA_LC</th>\n",
              "      <th>NU_NOTA_MT</th>\n",
              "      <th>NOTA_MT</th>\n",
              "      <th>TP_LINGUA</th>\n",
              "      <th>TP_STATUS_REDACAO</th>\n",
              "      <th>NU_NOTA_COMP1</th>\n",
              "      <th>NU_NOTA_COMP2</th>\n",
              "      <th>NU_NOTA_COMP3</th>\n",
              "      <th>NU_NOTA_COMP4</th>\n",
              "      <th>NU_NOTA_COMP5</th>\n",
              "      <th>NU_NOTA_REDACAO</th>\n",
              "    </tr>\n",
              "  </thead>\n",
              "  <tbody>\n",
              "    <tr>\n",
              "      <th>0</th>\n",
              "      <td>1.900010e+11</td>\n",
              "      <td>2019</td>\n",
              "      <td>Santa Isabel</td>\n",
              "      <td>SP</td>\n",
              "      <td>22</td>\n",
              "      <td>M</td>\n",
              "      <td>3</td>\n",
              "      <td>1</td>\n",
              "      <td>1</td>\n",
              "      <td>0</td>\n",
              "      <td>NaN</td>\n",
              "      <td>1</td>\n",
              "      <td>1</td>\n",
              "      <td>1</td>\n",
              "      <td>1</td>\n",
              "      <td>5646.0</td>\n",
              "      <td>564.6</td>\n",
              "      <td>5858.0</td>\n",
              "      <td>585.8</td>\n",
              "      <td>5929.0</td>\n",
              "      <td>592.9</td>\n",
              "      <td>6002.0</td>\n",
              "      <td>600.2</td>\n",
              "      <td>0</td>\n",
              "      <td>1.0</td>\n",
              "      <td>160.0</td>\n",
              "      <td>200.0</td>\n",
              "      <td>180.0</td>\n",
              "      <td>200.0</td>\n",
              "      <td>200.0</td>\n",
              "      <td>940.0</td>\n",
              "    </tr>\n",
              "    <tr>\n",
              "      <th>1</th>\n",
              "      <td>1.900010e+11</td>\n",
              "      <td>2019</td>\n",
              "      <td>Pinhalzinho</td>\n",
              "      <td>SP</td>\n",
              "      <td>19</td>\n",
              "      <td>M</td>\n",
              "      <td>3</td>\n",
              "      <td>1</td>\n",
              "      <td>1</td>\n",
              "      <td>0</td>\n",
              "      <td>NaN</td>\n",
              "      <td>0</td>\n",
              "      <td>0</td>\n",
              "      <td>0</td>\n",
              "      <td>0</td>\n",
              "      <td>NaN</td>\n",
              "      <td>0.0</td>\n",
              "      <td>NaN</td>\n",
              "      <td>0.0</td>\n",
              "      <td>NaN</td>\n",
              "      <td>0.0</td>\n",
              "      <td>NaN</td>\n",
              "      <td>0.0</td>\n",
              "      <td>1</td>\n",
              "      <td>NaN</td>\n",
              "      <td>NaN</td>\n",
              "      <td>NaN</td>\n",
              "      <td>NaN</td>\n",
              "      <td>NaN</td>\n",
              "      <td>NaN</td>\n",
              "      <td>NaN</td>\n",
              "    </tr>\n",
              "    <tr>\n",
              "      <th>2</th>\n",
              "      <td>1.900010e+11</td>\n",
              "      <td>2019</td>\n",
              "      <td>São Paulo</td>\n",
              "      <td>SP</td>\n",
              "      <td>17</td>\n",
              "      <td>F</td>\n",
              "      <td>3</td>\n",
              "      <td>1</td>\n",
              "      <td>3</td>\n",
              "      <td>0</td>\n",
              "      <td>15567761.0</td>\n",
              "      <td>1</td>\n",
              "      <td>1</td>\n",
              "      <td>1</td>\n",
              "      <td>1</td>\n",
              "      <td>5762.0</td>\n",
              "      <td>576.2</td>\n",
              "      <td>6411.0</td>\n",
              "      <td>641.1</td>\n",
              "      <td>6343.0</td>\n",
              "      <td>634.3</td>\n",
              "      <td>7318.0</td>\n",
              "      <td>731.8</td>\n",
              "      <td>0</td>\n",
              "      <td>1.0</td>\n",
              "      <td>160.0</td>\n",
              "      <td>120.0</td>\n",
              "      <td>200.0</td>\n",
              "      <td>200.0</td>\n",
              "      <td>200.0</td>\n",
              "      <td>880.0</td>\n",
              "    </tr>\n",
              "    <tr>\n",
              "      <th>3</th>\n",
              "      <td>1.900010e+11</td>\n",
              "      <td>2019</td>\n",
              "      <td>São Bernardo do Campo</td>\n",
              "      <td>SP</td>\n",
              "      <td>19</td>\n",
              "      <td>M</td>\n",
              "      <td>3</td>\n",
              "      <td>1</td>\n",
              "      <td>2</td>\n",
              "      <td>0</td>\n",
              "      <td>35904958.0</td>\n",
              "      <td>1</td>\n",
              "      <td>1</td>\n",
              "      <td>1</td>\n",
              "      <td>1</td>\n",
              "      <td>4022.0</td>\n",
              "      <td>402.2</td>\n",
              "      <td>4248.0</td>\n",
              "      <td>424.8</td>\n",
              "      <td>5096.0</td>\n",
              "      <td>509.6</td>\n",
              "      <td>3932.0</td>\n",
              "      <td>393.2</td>\n",
              "      <td>1</td>\n",
              "      <td>1.0</td>\n",
              "      <td>80.0</td>\n",
              "      <td>160.0</td>\n",
              "      <td>120.0</td>\n",
              "      <td>100.0</td>\n",
              "      <td>100.0</td>\n",
              "      <td>560.0</td>\n",
              "    </tr>\n",
              "    <tr>\n",
              "      <th>4</th>\n",
              "      <td>1.900010e+11</td>\n",
              "      <td>2019</td>\n",
              "      <td>São Joaquim da Barra</td>\n",
              "      <td>SP</td>\n",
              "      <td>37</td>\n",
              "      <td>M</td>\n",
              "      <td>1</td>\n",
              "      <td>1</td>\n",
              "      <td>1</td>\n",
              "      <td>0</td>\n",
              "      <td>NaN</td>\n",
              "      <td>0</td>\n",
              "      <td>0</td>\n",
              "      <td>0</td>\n",
              "      <td>0</td>\n",
              "      <td>NaN</td>\n",
              "      <td>0.0</td>\n",
              "      <td>NaN</td>\n",
              "      <td>0.0</td>\n",
              "      <td>NaN</td>\n",
              "      <td>0.0</td>\n",
              "      <td>NaN</td>\n",
              "      <td>0.0</td>\n",
              "      <td>1</td>\n",
              "      <td>NaN</td>\n",
              "      <td>NaN</td>\n",
              "      <td>NaN</td>\n",
              "      <td>NaN</td>\n",
              "      <td>NaN</td>\n",
              "      <td>NaN</td>\n",
              "      <td>NaN</td>\n",
              "    </tr>\n",
              "  </tbody>\n",
              "</table>\n",
              "</div>"
            ],
            "text/plain": [
              "   NU_INSCRICAO  NU_ANO  ... NU_NOTA_COMP5 NU_NOTA_REDACAO\n",
              "0  1.900010e+11    2019  ...         200.0           940.0\n",
              "1  1.900010e+11    2019  ...           NaN             NaN\n",
              "2  1.900010e+11    2019  ...         200.0           880.0\n",
              "3  1.900010e+11    2019  ...         100.0           560.0\n",
              "4  1.900010e+11    2019  ...           NaN             NaN\n",
              "\n",
              "[5 rows x 31 columns]"
            ]
          },
          "metadata": {
            "tags": []
          },
          "execution_count": 12
        }
      ]
    },
    {
      "cell_type": "code",
      "metadata": {
        "id": "FNnKvKY3MBKd",
        "outputId": "198f372d-5df3-45a2-f653-85d9ae87fdd2",
        "colab": {
          "base_uri": "https://localhost:8080/"
        }
      },
      "source": [
        "dados_maiores_11['NU_IDADE'].value_counts().sort_index()"
      ],
      "execution_count": 13,
      "outputs": [
        {
          "output_type": "execute_result",
          "data": {
            "text/plain": [
              "12        6\n",
              "13       29\n",
              "14      355\n",
              "15    11583\n",
              "16    59316\n",
              "      ...  \n",
              "80        2\n",
              "81        3\n",
              "82        2\n",
              "86        1\n",
              "91        1\n",
              "Name: NU_IDADE, Length: 73, dtype: int64"
            ]
          },
          "metadata": {
            "tags": []
          },
          "execution_count": 13
        }
      ]
    },
    {
      "cell_type": "code",
      "metadata": {
        "id": "CRD9ukIOMdXG",
        "outputId": "da32d0fa-010f-4b66-f145-6574cbbfbb43",
        "colab": {
          "base_uri": "https://localhost:8080/"
        }
      },
      "source": [
        "# Quantidade de Treineiros\n",
        "dados_maiores_11.query('IN_TREINEIRO == 1')['IN_TREINEIRO'].value_counts()"
      ],
      "execution_count": 14,
      "outputs": [
        {
          "output_type": "execute_result",
          "data": {
            "text/plain": [
              "1    93988\n",
              "Name: IN_TREINEIRO, dtype: int64"
            ]
          },
          "metadata": {
            "tags": []
          },
          "execution_count": 14
        }
      ]
    },
    {
      "cell_type": "code",
      "metadata": {
        "id": "qgfvskS5MdgS"
      },
      "source": [
        "treineiros = dados_maiores_11.loc[dados_maiores_11.IN_TREINEIRO == 1]"
      ],
      "execution_count": 15,
      "outputs": []
    },
    {
      "cell_type": "code",
      "metadata": {
        "id": "MNPxlhQ0MdpF",
        "outputId": "9b9db659-b559-43bf-ea5d-736e8f87dbc9",
        "colab": {
          "base_uri": "https://localhost:8080/",
          "height": 224
        }
      },
      "source": [
        "treineiros.head()"
      ],
      "execution_count": 16,
      "outputs": [
        {
          "output_type": "execute_result",
          "data": {
            "text/html": [
              "<div>\n",
              "<style scoped>\n",
              "    .dataframe tbody tr th:only-of-type {\n",
              "        vertical-align: middle;\n",
              "    }\n",
              "\n",
              "    .dataframe tbody tr th {\n",
              "        vertical-align: top;\n",
              "    }\n",
              "\n",
              "    .dataframe thead th {\n",
              "        text-align: right;\n",
              "    }\n",
              "</style>\n",
              "<table border=\"1\" class=\"dataframe\">\n",
              "  <thead>\n",
              "    <tr style=\"text-align: right;\">\n",
              "      <th></th>\n",
              "      <th>NU_INSCRICAO</th>\n",
              "      <th>NU_ANO</th>\n",
              "      <th>NO_MUNICIPIO_RESIDENCIA</th>\n",
              "      <th>SG_UF_RESIDENCIA</th>\n",
              "      <th>NU_IDADE</th>\n",
              "      <th>TP_SEXO</th>\n",
              "      <th>TP_COR_RACA</th>\n",
              "      <th>TP_NACIONALIDADE</th>\n",
              "      <th>TP_ESCOLA</th>\n",
              "      <th>IN_TREINEIRO</th>\n",
              "      <th>CO_ESCOLA</th>\n",
              "      <th>TP_PRESENCA_CN</th>\n",
              "      <th>TP_PRESENCA_CH</th>\n",
              "      <th>TP_PRESENCA_LC</th>\n",
              "      <th>TP_PRESENCA_MT</th>\n",
              "      <th>NU_NOTA_CN</th>\n",
              "      <th>NOTA_CN</th>\n",
              "      <th>NU_NOTA_CH</th>\n",
              "      <th>NOTA_CH</th>\n",
              "      <th>NU_NOTA_LC</th>\n",
              "      <th>NOTA_LC</th>\n",
              "      <th>NU_NOTA_MT</th>\n",
              "      <th>NOTA_MT</th>\n",
              "      <th>TP_LINGUA</th>\n",
              "      <th>TP_STATUS_REDACAO</th>\n",
              "      <th>NU_NOTA_COMP1</th>\n",
              "      <th>NU_NOTA_COMP2</th>\n",
              "      <th>NU_NOTA_COMP3</th>\n",
              "      <th>NU_NOTA_COMP4</th>\n",
              "      <th>NU_NOTA_COMP5</th>\n",
              "      <th>NU_NOTA_REDACAO</th>\n",
              "    </tr>\n",
              "  </thead>\n",
              "  <tbody>\n",
              "    <tr>\n",
              "      <th>20</th>\n",
              "      <td>1.900010e+11</td>\n",
              "      <td>2019</td>\n",
              "      <td>Santos</td>\n",
              "      <td>SP</td>\n",
              "      <td>15</td>\n",
              "      <td>F</td>\n",
              "      <td>3</td>\n",
              "      <td>1</td>\n",
              "      <td>1</td>\n",
              "      <td>1</td>\n",
              "      <td>NaN</td>\n",
              "      <td>1</td>\n",
              "      <td>1</td>\n",
              "      <td>1</td>\n",
              "      <td>1</td>\n",
              "      <td>4554.0</td>\n",
              "      <td>455.4</td>\n",
              "      <td>5067.0</td>\n",
              "      <td>506.7</td>\n",
              "      <td>4804.0</td>\n",
              "      <td>480.4</td>\n",
              "      <td>5732.0</td>\n",
              "      <td>573.2</td>\n",
              "      <td>0</td>\n",
              "      <td>1.0</td>\n",
              "      <td>140.0</td>\n",
              "      <td>120.0</td>\n",
              "      <td>120.0</td>\n",
              "      <td>100.0</td>\n",
              "      <td>80.0</td>\n",
              "      <td>560.0</td>\n",
              "    </tr>\n",
              "    <tr>\n",
              "      <th>21</th>\n",
              "      <td>1.900010e+11</td>\n",
              "      <td>2019</td>\n",
              "      <td>Panorama</td>\n",
              "      <td>SP</td>\n",
              "      <td>16</td>\n",
              "      <td>F</td>\n",
              "      <td>3</td>\n",
              "      <td>1</td>\n",
              "      <td>1</td>\n",
              "      <td>1</td>\n",
              "      <td>NaN</td>\n",
              "      <td>0</td>\n",
              "      <td>0</td>\n",
              "      <td>0</td>\n",
              "      <td>0</td>\n",
              "      <td>NaN</td>\n",
              "      <td>0.0</td>\n",
              "      <td>NaN</td>\n",
              "      <td>0.0</td>\n",
              "      <td>NaN</td>\n",
              "      <td>0.0</td>\n",
              "      <td>NaN</td>\n",
              "      <td>0.0</td>\n",
              "      <td>1</td>\n",
              "      <td>NaN</td>\n",
              "      <td>NaN</td>\n",
              "      <td>NaN</td>\n",
              "      <td>NaN</td>\n",
              "      <td>NaN</td>\n",
              "      <td>NaN</td>\n",
              "      <td>NaN</td>\n",
              "    </tr>\n",
              "    <tr>\n",
              "      <th>106</th>\n",
              "      <td>1.900010e+11</td>\n",
              "      <td>2019</td>\n",
              "      <td>São Paulo</td>\n",
              "      <td>SP</td>\n",
              "      <td>16</td>\n",
              "      <td>F</td>\n",
              "      <td>1</td>\n",
              "      <td>1</td>\n",
              "      <td>1</td>\n",
              "      <td>1</td>\n",
              "      <td>NaN</td>\n",
              "      <td>1</td>\n",
              "      <td>1</td>\n",
              "      <td>1</td>\n",
              "      <td>1</td>\n",
              "      <td>4245.0</td>\n",
              "      <td>424.5</td>\n",
              "      <td>5177.0</td>\n",
              "      <td>517.7</td>\n",
              "      <td>4896.0</td>\n",
              "      <td>489.6</td>\n",
              "      <td>5326.0</td>\n",
              "      <td>532.6</td>\n",
              "      <td>0</td>\n",
              "      <td>1.0</td>\n",
              "      <td>120.0</td>\n",
              "      <td>120.0</td>\n",
              "      <td>120.0</td>\n",
              "      <td>100.0</td>\n",
              "      <td>80.0</td>\n",
              "      <td>540.0</td>\n",
              "    </tr>\n",
              "    <tr>\n",
              "      <th>109</th>\n",
              "      <td>1.900010e+11</td>\n",
              "      <td>2019</td>\n",
              "      <td>Águas de Lindóia</td>\n",
              "      <td>SP</td>\n",
              "      <td>16</td>\n",
              "      <td>M</td>\n",
              "      <td>1</td>\n",
              "      <td>1</td>\n",
              "      <td>1</td>\n",
              "      <td>1</td>\n",
              "      <td>NaN</td>\n",
              "      <td>0</td>\n",
              "      <td>0</td>\n",
              "      <td>0</td>\n",
              "      <td>0</td>\n",
              "      <td>NaN</td>\n",
              "      <td>0.0</td>\n",
              "      <td>NaN</td>\n",
              "      <td>0.0</td>\n",
              "      <td>NaN</td>\n",
              "      <td>0.0</td>\n",
              "      <td>NaN</td>\n",
              "      <td>0.0</td>\n",
              "      <td>1</td>\n",
              "      <td>NaN</td>\n",
              "      <td>NaN</td>\n",
              "      <td>NaN</td>\n",
              "      <td>NaN</td>\n",
              "      <td>NaN</td>\n",
              "      <td>NaN</td>\n",
              "      <td>NaN</td>\n",
              "    </tr>\n",
              "    <tr>\n",
              "      <th>159</th>\n",
              "      <td>1.900010e+11</td>\n",
              "      <td>2019</td>\n",
              "      <td>Águas de Lindóia</td>\n",
              "      <td>SP</td>\n",
              "      <td>15</td>\n",
              "      <td>M</td>\n",
              "      <td>1</td>\n",
              "      <td>1</td>\n",
              "      <td>1</td>\n",
              "      <td>1</td>\n",
              "      <td>NaN</td>\n",
              "      <td>0</td>\n",
              "      <td>0</td>\n",
              "      <td>0</td>\n",
              "      <td>0</td>\n",
              "      <td>NaN</td>\n",
              "      <td>0.0</td>\n",
              "      <td>NaN</td>\n",
              "      <td>0.0</td>\n",
              "      <td>NaN</td>\n",
              "      <td>0.0</td>\n",
              "      <td>NaN</td>\n",
              "      <td>0.0</td>\n",
              "      <td>0</td>\n",
              "      <td>NaN</td>\n",
              "      <td>NaN</td>\n",
              "      <td>NaN</td>\n",
              "      <td>NaN</td>\n",
              "      <td>NaN</td>\n",
              "      <td>NaN</td>\n",
              "      <td>NaN</td>\n",
              "    </tr>\n",
              "  </tbody>\n",
              "</table>\n",
              "</div>"
            ],
            "text/plain": [
              "     NU_INSCRICAO  NU_ANO  ... NU_NOTA_COMP5 NU_NOTA_REDACAO\n",
              "20   1.900010e+11    2019  ...          80.0           560.0\n",
              "21   1.900010e+11    2019  ...           NaN             NaN\n",
              "106  1.900010e+11    2019  ...          80.0           540.0\n",
              "109  1.900010e+11    2019  ...           NaN             NaN\n",
              "159  1.900010e+11    2019  ...           NaN             NaN\n",
              "\n",
              "[5 rows x 31 columns]"
            ]
          },
          "metadata": {
            "tags": []
          },
          "execution_count": 16
        }
      ]
    },
    {
      "cell_type": "code",
      "metadata": {
        "id": "Gaq-SOFUMdzb"
      },
      "source": [
        "# Separação entre os treineiros e os vestibulandos\n",
        "vestibulandos = dados_maiores_11.loc[dados_maiores_11.IN_TREINEIRO == 0]"
      ],
      "execution_count": 17,
      "outputs": []
    },
    {
      "cell_type": "code",
      "metadata": {
        "id": "B8ixIFm_PdnN",
        "outputId": "5bced864-bbdf-4a84-8e82-d1ec8991a034",
        "colab": {
          "base_uri": "https://localhost:8080/",
          "height": 224
        }
      },
      "source": [
        "vestibulandos.head()"
      ],
      "execution_count": 18,
      "outputs": [
        {
          "output_type": "execute_result",
          "data": {
            "text/html": [
              "<div>\n",
              "<style scoped>\n",
              "    .dataframe tbody tr th:only-of-type {\n",
              "        vertical-align: middle;\n",
              "    }\n",
              "\n",
              "    .dataframe tbody tr th {\n",
              "        vertical-align: top;\n",
              "    }\n",
              "\n",
              "    .dataframe thead th {\n",
              "        text-align: right;\n",
              "    }\n",
              "</style>\n",
              "<table border=\"1\" class=\"dataframe\">\n",
              "  <thead>\n",
              "    <tr style=\"text-align: right;\">\n",
              "      <th></th>\n",
              "      <th>NU_INSCRICAO</th>\n",
              "      <th>NU_ANO</th>\n",
              "      <th>NO_MUNICIPIO_RESIDENCIA</th>\n",
              "      <th>SG_UF_RESIDENCIA</th>\n",
              "      <th>NU_IDADE</th>\n",
              "      <th>TP_SEXO</th>\n",
              "      <th>TP_COR_RACA</th>\n",
              "      <th>TP_NACIONALIDADE</th>\n",
              "      <th>TP_ESCOLA</th>\n",
              "      <th>IN_TREINEIRO</th>\n",
              "      <th>CO_ESCOLA</th>\n",
              "      <th>TP_PRESENCA_CN</th>\n",
              "      <th>TP_PRESENCA_CH</th>\n",
              "      <th>TP_PRESENCA_LC</th>\n",
              "      <th>TP_PRESENCA_MT</th>\n",
              "      <th>NU_NOTA_CN</th>\n",
              "      <th>NOTA_CN</th>\n",
              "      <th>NU_NOTA_CH</th>\n",
              "      <th>NOTA_CH</th>\n",
              "      <th>NU_NOTA_LC</th>\n",
              "      <th>NOTA_LC</th>\n",
              "      <th>NU_NOTA_MT</th>\n",
              "      <th>NOTA_MT</th>\n",
              "      <th>TP_LINGUA</th>\n",
              "      <th>TP_STATUS_REDACAO</th>\n",
              "      <th>NU_NOTA_COMP1</th>\n",
              "      <th>NU_NOTA_COMP2</th>\n",
              "      <th>NU_NOTA_COMP3</th>\n",
              "      <th>NU_NOTA_COMP4</th>\n",
              "      <th>NU_NOTA_COMP5</th>\n",
              "      <th>NU_NOTA_REDACAO</th>\n",
              "    </tr>\n",
              "  </thead>\n",
              "  <tbody>\n",
              "    <tr>\n",
              "      <th>0</th>\n",
              "      <td>1.900010e+11</td>\n",
              "      <td>2019</td>\n",
              "      <td>Santa Isabel</td>\n",
              "      <td>SP</td>\n",
              "      <td>22</td>\n",
              "      <td>M</td>\n",
              "      <td>3</td>\n",
              "      <td>1</td>\n",
              "      <td>1</td>\n",
              "      <td>0</td>\n",
              "      <td>NaN</td>\n",
              "      <td>1</td>\n",
              "      <td>1</td>\n",
              "      <td>1</td>\n",
              "      <td>1</td>\n",
              "      <td>5646.0</td>\n",
              "      <td>564.6</td>\n",
              "      <td>5858.0</td>\n",
              "      <td>585.8</td>\n",
              "      <td>5929.0</td>\n",
              "      <td>592.9</td>\n",
              "      <td>6002.0</td>\n",
              "      <td>600.2</td>\n",
              "      <td>0</td>\n",
              "      <td>1.0</td>\n",
              "      <td>160.0</td>\n",
              "      <td>200.0</td>\n",
              "      <td>180.0</td>\n",
              "      <td>200.0</td>\n",
              "      <td>200.0</td>\n",
              "      <td>940.0</td>\n",
              "    </tr>\n",
              "    <tr>\n",
              "      <th>1</th>\n",
              "      <td>1.900010e+11</td>\n",
              "      <td>2019</td>\n",
              "      <td>Pinhalzinho</td>\n",
              "      <td>SP</td>\n",
              "      <td>19</td>\n",
              "      <td>M</td>\n",
              "      <td>3</td>\n",
              "      <td>1</td>\n",
              "      <td>1</td>\n",
              "      <td>0</td>\n",
              "      <td>NaN</td>\n",
              "      <td>0</td>\n",
              "      <td>0</td>\n",
              "      <td>0</td>\n",
              "      <td>0</td>\n",
              "      <td>NaN</td>\n",
              "      <td>0.0</td>\n",
              "      <td>NaN</td>\n",
              "      <td>0.0</td>\n",
              "      <td>NaN</td>\n",
              "      <td>0.0</td>\n",
              "      <td>NaN</td>\n",
              "      <td>0.0</td>\n",
              "      <td>1</td>\n",
              "      <td>NaN</td>\n",
              "      <td>NaN</td>\n",
              "      <td>NaN</td>\n",
              "      <td>NaN</td>\n",
              "      <td>NaN</td>\n",
              "      <td>NaN</td>\n",
              "      <td>NaN</td>\n",
              "    </tr>\n",
              "    <tr>\n",
              "      <th>2</th>\n",
              "      <td>1.900010e+11</td>\n",
              "      <td>2019</td>\n",
              "      <td>São Paulo</td>\n",
              "      <td>SP</td>\n",
              "      <td>17</td>\n",
              "      <td>F</td>\n",
              "      <td>3</td>\n",
              "      <td>1</td>\n",
              "      <td>3</td>\n",
              "      <td>0</td>\n",
              "      <td>15567761.0</td>\n",
              "      <td>1</td>\n",
              "      <td>1</td>\n",
              "      <td>1</td>\n",
              "      <td>1</td>\n",
              "      <td>5762.0</td>\n",
              "      <td>576.2</td>\n",
              "      <td>6411.0</td>\n",
              "      <td>641.1</td>\n",
              "      <td>6343.0</td>\n",
              "      <td>634.3</td>\n",
              "      <td>7318.0</td>\n",
              "      <td>731.8</td>\n",
              "      <td>0</td>\n",
              "      <td>1.0</td>\n",
              "      <td>160.0</td>\n",
              "      <td>120.0</td>\n",
              "      <td>200.0</td>\n",
              "      <td>200.0</td>\n",
              "      <td>200.0</td>\n",
              "      <td>880.0</td>\n",
              "    </tr>\n",
              "    <tr>\n",
              "      <th>3</th>\n",
              "      <td>1.900010e+11</td>\n",
              "      <td>2019</td>\n",
              "      <td>São Bernardo do Campo</td>\n",
              "      <td>SP</td>\n",
              "      <td>19</td>\n",
              "      <td>M</td>\n",
              "      <td>3</td>\n",
              "      <td>1</td>\n",
              "      <td>2</td>\n",
              "      <td>0</td>\n",
              "      <td>35904958.0</td>\n",
              "      <td>1</td>\n",
              "      <td>1</td>\n",
              "      <td>1</td>\n",
              "      <td>1</td>\n",
              "      <td>4022.0</td>\n",
              "      <td>402.2</td>\n",
              "      <td>4248.0</td>\n",
              "      <td>424.8</td>\n",
              "      <td>5096.0</td>\n",
              "      <td>509.6</td>\n",
              "      <td>3932.0</td>\n",
              "      <td>393.2</td>\n",
              "      <td>1</td>\n",
              "      <td>1.0</td>\n",
              "      <td>80.0</td>\n",
              "      <td>160.0</td>\n",
              "      <td>120.0</td>\n",
              "      <td>100.0</td>\n",
              "      <td>100.0</td>\n",
              "      <td>560.0</td>\n",
              "    </tr>\n",
              "    <tr>\n",
              "      <th>4</th>\n",
              "      <td>1.900010e+11</td>\n",
              "      <td>2019</td>\n",
              "      <td>São Joaquim da Barra</td>\n",
              "      <td>SP</td>\n",
              "      <td>37</td>\n",
              "      <td>M</td>\n",
              "      <td>1</td>\n",
              "      <td>1</td>\n",
              "      <td>1</td>\n",
              "      <td>0</td>\n",
              "      <td>NaN</td>\n",
              "      <td>0</td>\n",
              "      <td>0</td>\n",
              "      <td>0</td>\n",
              "      <td>0</td>\n",
              "      <td>NaN</td>\n",
              "      <td>0.0</td>\n",
              "      <td>NaN</td>\n",
              "      <td>0.0</td>\n",
              "      <td>NaN</td>\n",
              "      <td>0.0</td>\n",
              "      <td>NaN</td>\n",
              "      <td>0.0</td>\n",
              "      <td>1</td>\n",
              "      <td>NaN</td>\n",
              "      <td>NaN</td>\n",
              "      <td>NaN</td>\n",
              "      <td>NaN</td>\n",
              "      <td>NaN</td>\n",
              "      <td>NaN</td>\n",
              "      <td>NaN</td>\n",
              "    </tr>\n",
              "  </tbody>\n",
              "</table>\n",
              "</div>"
            ],
            "text/plain": [
              "   NU_INSCRICAO  NU_ANO  ... NU_NOTA_COMP5 NU_NOTA_REDACAO\n",
              "0  1.900010e+11    2019  ...         200.0           940.0\n",
              "1  1.900010e+11    2019  ...           NaN             NaN\n",
              "2  1.900010e+11    2019  ...         200.0           880.0\n",
              "3  1.900010e+11    2019  ...         100.0           560.0\n",
              "4  1.900010e+11    2019  ...           NaN             NaN\n",
              "\n",
              "[5 rows x 31 columns]"
            ]
          },
          "metadata": {
            "tags": []
          },
          "execution_count": 18
        }
      ]
    },
    {
      "cell_type": "code",
      "metadata": {
        "id": "Nuoxx9D9Pdvd",
        "outputId": "722ccb5a-fbce-4b32-ac04-2c6c70a88168",
        "colab": {
          "base_uri": "https://localhost:8080/"
        }
      },
      "source": [
        "vestibulandos.shape"
      ],
      "execution_count": 19,
      "outputs": [
        {
          "output_type": "execute_result",
          "data": {
            "text/plain": [
              "(719768, 31)"
            ]
          },
          "metadata": {
            "tags": []
          },
          "execution_count": 19
        }
      ]
    },
    {
      "cell_type": "code",
      "metadata": {
        "id": "kEn0wq9YDhB5"
      },
      "source": [
        "# Análise da quantidade de presentes (1), faltantes(0) e eliminados(2) nas provas.\n",
        "presenca = vestibulandos.loc[vestibulandos.TP_PRESENCA_MT == 2]"
      ],
      "execution_count": 20,
      "outputs": []
    },
    {
      "cell_type": "code",
      "metadata": {
        "id": "G_2ACE1rD15S",
        "outputId": "962849c3-5b5e-46fc-f142-85822d20ab93",
        "colab": {
          "base_uri": "https://localhost:8080/"
        }
      },
      "source": [
        "presenca.shape"
      ],
      "execution_count": 21,
      "outputs": [
        {
          "output_type": "execute_result",
          "data": {
            "text/plain": [
              "(270, 31)"
            ]
          },
          "metadata": {
            "tags": []
          },
          "execution_count": 21
        }
      ]
    },
    {
      "cell_type": "markdown",
      "metadata": {
        "id": "RvEbqZDXEX_x"
      },
      "source": [
        "RESUMO DA PRESENÇA NAS PROVAS:\n",
        "\n",
        "Ciências da Natureza: 500805 presentes, 218693 faltaram e 270 eliminados.\n",
        "\n",
        "Ciências Humanas: 533142 presentes, 185969 faltaram e 657 eliminados.\n",
        "\n",
        "Linguagens e Códigos: 533142 presentes, 185969 faltaram e 657 eliminados.\n",
        "\n",
        "Matemática: 500805 presentes, 218693 faltaram e 270 eliminados."
      ]
    },
    {
      "cell_type": "code",
      "metadata": {
        "id": "kZIbSeR8Pdyt"
      },
      "source": [
        "provas = ['NU_NOTA_REDACAO','NU_NOTA_CN','NU_NOTA_MT','NU_NOTA_LC','NU_NOTA_CH']"
      ],
      "execution_count": 22,
      "outputs": []
    },
    {
      "cell_type": "code",
      "metadata": {
        "id": "CupDbA6qPd03",
        "outputId": "3ade5a84-4460-4d25-c4ae-83a4d6dd11fd",
        "colab": {
          "base_uri": "https://localhost:8080/"
        }
      },
      "source": [
        "# Registros NAN nas notas. Faltaram ou tiraram zero.\n",
        "dados[provas].isnull().sum()"
      ],
      "execution_count": 23,
      "outputs": [
        {
          "output_type": "execute_result",
          "data": {
            "text/plain": [
              "NU_NOTA_REDACAO    193127\n",
              "NU_NOTA_CN         231167\n",
              "NU_NOTA_MT         231167\n",
              "NU_NOTA_LC         193127\n",
              "NU_NOTA_CH         193127\n",
              "dtype: int64"
            ]
          },
          "metadata": {
            "tags": []
          },
          "execution_count": 23
        }
      ]
    },
    {
      "cell_type": "code",
      "metadata": {
        "id": "NuTHc_OeKoZv"
      },
      "source": [
        "presenca_total = ['TP_PRESENCA_CN','TP_PRESENCA_CH','TP_PRESENCA_MT','TP_PRESENCA_LC']"
      ],
      "execution_count": 24,
      "outputs": []
    },
    {
      "cell_type": "code",
      "metadata": {
        "id": "bwZ6DOMxKBS_",
        "outputId": "8081f187-715e-4555-aee5-dec70c2e7ac5",
        "colab": {
          "base_uri": "https://localhost:8080/"
        }
      },
      "source": [
        "#Criado uma coluna que soma as presenças nas provas, se a soma for 0 faltou nos dois dias, se a soma for 2, foi em um dia e se a soma for 4, foi nos dois dias.\n",
        "vestibulandos['presenca_total'] = vestibulandos[presenca_total].sum(axis=1)"
      ],
      "execution_count": 25,
      "outputs": [
        {
          "output_type": "stream",
          "text": [
            "/usr/local/lib/python3.6/dist-packages/ipykernel_launcher.py:2: SettingWithCopyWarning: \n",
            "A value is trying to be set on a copy of a slice from a DataFrame.\n",
            "Try using .loc[row_indexer,col_indexer] = value instead\n",
            "\n",
            "See the caveats in the documentation: https://pandas.pydata.org/pandas-docs/stable/user_guide/indexing.html#returning-a-view-versus-a-copy\n",
            "  \n"
          ],
          "name": "stderr"
        }
      ]
    },
    {
      "cell_type": "code",
      "metadata": {
        "id": "qf-uZthGKTeD",
        "outputId": "352807ff-d4e3-457f-cd6b-5efc309ed932",
        "colab": {
          "base_uri": "https://localhost:8080/",
          "height": 224
        }
      },
      "source": [
        "vestibulandos.head()"
      ],
      "execution_count": 26,
      "outputs": [
        {
          "output_type": "execute_result",
          "data": {
            "text/html": [
              "<div>\n",
              "<style scoped>\n",
              "    .dataframe tbody tr th:only-of-type {\n",
              "        vertical-align: middle;\n",
              "    }\n",
              "\n",
              "    .dataframe tbody tr th {\n",
              "        vertical-align: top;\n",
              "    }\n",
              "\n",
              "    .dataframe thead th {\n",
              "        text-align: right;\n",
              "    }\n",
              "</style>\n",
              "<table border=\"1\" class=\"dataframe\">\n",
              "  <thead>\n",
              "    <tr style=\"text-align: right;\">\n",
              "      <th></th>\n",
              "      <th>NU_INSCRICAO</th>\n",
              "      <th>NU_ANO</th>\n",
              "      <th>NO_MUNICIPIO_RESIDENCIA</th>\n",
              "      <th>SG_UF_RESIDENCIA</th>\n",
              "      <th>NU_IDADE</th>\n",
              "      <th>TP_SEXO</th>\n",
              "      <th>TP_COR_RACA</th>\n",
              "      <th>TP_NACIONALIDADE</th>\n",
              "      <th>TP_ESCOLA</th>\n",
              "      <th>IN_TREINEIRO</th>\n",
              "      <th>CO_ESCOLA</th>\n",
              "      <th>TP_PRESENCA_CN</th>\n",
              "      <th>TP_PRESENCA_CH</th>\n",
              "      <th>TP_PRESENCA_LC</th>\n",
              "      <th>TP_PRESENCA_MT</th>\n",
              "      <th>NU_NOTA_CN</th>\n",
              "      <th>NOTA_CN</th>\n",
              "      <th>NU_NOTA_CH</th>\n",
              "      <th>NOTA_CH</th>\n",
              "      <th>NU_NOTA_LC</th>\n",
              "      <th>NOTA_LC</th>\n",
              "      <th>NU_NOTA_MT</th>\n",
              "      <th>NOTA_MT</th>\n",
              "      <th>TP_LINGUA</th>\n",
              "      <th>TP_STATUS_REDACAO</th>\n",
              "      <th>NU_NOTA_COMP1</th>\n",
              "      <th>NU_NOTA_COMP2</th>\n",
              "      <th>NU_NOTA_COMP3</th>\n",
              "      <th>NU_NOTA_COMP4</th>\n",
              "      <th>NU_NOTA_COMP5</th>\n",
              "      <th>NU_NOTA_REDACAO</th>\n",
              "      <th>presenca_total</th>\n",
              "    </tr>\n",
              "  </thead>\n",
              "  <tbody>\n",
              "    <tr>\n",
              "      <th>0</th>\n",
              "      <td>1.900010e+11</td>\n",
              "      <td>2019</td>\n",
              "      <td>Santa Isabel</td>\n",
              "      <td>SP</td>\n",
              "      <td>22</td>\n",
              "      <td>M</td>\n",
              "      <td>3</td>\n",
              "      <td>1</td>\n",
              "      <td>1</td>\n",
              "      <td>0</td>\n",
              "      <td>NaN</td>\n",
              "      <td>1</td>\n",
              "      <td>1</td>\n",
              "      <td>1</td>\n",
              "      <td>1</td>\n",
              "      <td>5646.0</td>\n",
              "      <td>564.6</td>\n",
              "      <td>5858.0</td>\n",
              "      <td>585.8</td>\n",
              "      <td>5929.0</td>\n",
              "      <td>592.9</td>\n",
              "      <td>6002.0</td>\n",
              "      <td>600.2</td>\n",
              "      <td>0</td>\n",
              "      <td>1.0</td>\n",
              "      <td>160.0</td>\n",
              "      <td>200.0</td>\n",
              "      <td>180.0</td>\n",
              "      <td>200.0</td>\n",
              "      <td>200.0</td>\n",
              "      <td>940.0</td>\n",
              "      <td>4</td>\n",
              "    </tr>\n",
              "    <tr>\n",
              "      <th>1</th>\n",
              "      <td>1.900010e+11</td>\n",
              "      <td>2019</td>\n",
              "      <td>Pinhalzinho</td>\n",
              "      <td>SP</td>\n",
              "      <td>19</td>\n",
              "      <td>M</td>\n",
              "      <td>3</td>\n",
              "      <td>1</td>\n",
              "      <td>1</td>\n",
              "      <td>0</td>\n",
              "      <td>NaN</td>\n",
              "      <td>0</td>\n",
              "      <td>0</td>\n",
              "      <td>0</td>\n",
              "      <td>0</td>\n",
              "      <td>NaN</td>\n",
              "      <td>0.0</td>\n",
              "      <td>NaN</td>\n",
              "      <td>0.0</td>\n",
              "      <td>NaN</td>\n",
              "      <td>0.0</td>\n",
              "      <td>NaN</td>\n",
              "      <td>0.0</td>\n",
              "      <td>1</td>\n",
              "      <td>NaN</td>\n",
              "      <td>NaN</td>\n",
              "      <td>NaN</td>\n",
              "      <td>NaN</td>\n",
              "      <td>NaN</td>\n",
              "      <td>NaN</td>\n",
              "      <td>NaN</td>\n",
              "      <td>0</td>\n",
              "    </tr>\n",
              "    <tr>\n",
              "      <th>2</th>\n",
              "      <td>1.900010e+11</td>\n",
              "      <td>2019</td>\n",
              "      <td>São Paulo</td>\n",
              "      <td>SP</td>\n",
              "      <td>17</td>\n",
              "      <td>F</td>\n",
              "      <td>3</td>\n",
              "      <td>1</td>\n",
              "      <td>3</td>\n",
              "      <td>0</td>\n",
              "      <td>15567761.0</td>\n",
              "      <td>1</td>\n",
              "      <td>1</td>\n",
              "      <td>1</td>\n",
              "      <td>1</td>\n",
              "      <td>5762.0</td>\n",
              "      <td>576.2</td>\n",
              "      <td>6411.0</td>\n",
              "      <td>641.1</td>\n",
              "      <td>6343.0</td>\n",
              "      <td>634.3</td>\n",
              "      <td>7318.0</td>\n",
              "      <td>731.8</td>\n",
              "      <td>0</td>\n",
              "      <td>1.0</td>\n",
              "      <td>160.0</td>\n",
              "      <td>120.0</td>\n",
              "      <td>200.0</td>\n",
              "      <td>200.0</td>\n",
              "      <td>200.0</td>\n",
              "      <td>880.0</td>\n",
              "      <td>4</td>\n",
              "    </tr>\n",
              "    <tr>\n",
              "      <th>3</th>\n",
              "      <td>1.900010e+11</td>\n",
              "      <td>2019</td>\n",
              "      <td>São Bernardo do Campo</td>\n",
              "      <td>SP</td>\n",
              "      <td>19</td>\n",
              "      <td>M</td>\n",
              "      <td>3</td>\n",
              "      <td>1</td>\n",
              "      <td>2</td>\n",
              "      <td>0</td>\n",
              "      <td>35904958.0</td>\n",
              "      <td>1</td>\n",
              "      <td>1</td>\n",
              "      <td>1</td>\n",
              "      <td>1</td>\n",
              "      <td>4022.0</td>\n",
              "      <td>402.2</td>\n",
              "      <td>4248.0</td>\n",
              "      <td>424.8</td>\n",
              "      <td>5096.0</td>\n",
              "      <td>509.6</td>\n",
              "      <td>3932.0</td>\n",
              "      <td>393.2</td>\n",
              "      <td>1</td>\n",
              "      <td>1.0</td>\n",
              "      <td>80.0</td>\n",
              "      <td>160.0</td>\n",
              "      <td>120.0</td>\n",
              "      <td>100.0</td>\n",
              "      <td>100.0</td>\n",
              "      <td>560.0</td>\n",
              "      <td>4</td>\n",
              "    </tr>\n",
              "    <tr>\n",
              "      <th>4</th>\n",
              "      <td>1.900010e+11</td>\n",
              "      <td>2019</td>\n",
              "      <td>São Joaquim da Barra</td>\n",
              "      <td>SP</td>\n",
              "      <td>37</td>\n",
              "      <td>M</td>\n",
              "      <td>1</td>\n",
              "      <td>1</td>\n",
              "      <td>1</td>\n",
              "      <td>0</td>\n",
              "      <td>NaN</td>\n",
              "      <td>0</td>\n",
              "      <td>0</td>\n",
              "      <td>0</td>\n",
              "      <td>0</td>\n",
              "      <td>NaN</td>\n",
              "      <td>0.0</td>\n",
              "      <td>NaN</td>\n",
              "      <td>0.0</td>\n",
              "      <td>NaN</td>\n",
              "      <td>0.0</td>\n",
              "      <td>NaN</td>\n",
              "      <td>0.0</td>\n",
              "      <td>1</td>\n",
              "      <td>NaN</td>\n",
              "      <td>NaN</td>\n",
              "      <td>NaN</td>\n",
              "      <td>NaN</td>\n",
              "      <td>NaN</td>\n",
              "      <td>NaN</td>\n",
              "      <td>NaN</td>\n",
              "      <td>0</td>\n",
              "    </tr>\n",
              "  </tbody>\n",
              "</table>\n",
              "</div>"
            ],
            "text/plain": [
              "   NU_INSCRICAO  NU_ANO  ... NU_NOTA_REDACAO presenca_total\n",
              "0  1.900010e+11    2019  ...           940.0              4\n",
              "1  1.900010e+11    2019  ...             NaN              0\n",
              "2  1.900010e+11    2019  ...           880.0              4\n",
              "3  1.900010e+11    2019  ...           560.0              4\n",
              "4  1.900010e+11    2019  ...             NaN              0\n",
              "\n",
              "[5 rows x 32 columns]"
            ]
          },
          "metadata": {
            "tags": []
          },
          "execution_count": 26
        }
      ]
    },
    {
      "cell_type": "code",
      "metadata": {
        "id": "_TgYTLsqLuDM"
      },
      "source": [
        "# Siglas: 0 faltou nos dois dias, 2 faltou em um dia e 4 compareceu nos dois dias.\n",
        "verificacao_presenca = vestibulandos.loc[vestibulandos.presenca_total == 4]"
      ],
      "execution_count": 27,
      "outputs": []
    },
    {
      "cell_type": "code",
      "metadata": {
        "id": "GvbJ1L4ENPUV",
        "outputId": "51e00e21-0211-45d6-f05f-71f3c47855a7",
        "colab": {
          "base_uri": "https://localhost:8080/"
        }
      },
      "source": [
        "verificacao_presenca.shape"
      ],
      "execution_count": 28,
      "outputs": [
        {
          "output_type": "execute_result",
          "data": {
            "text/plain": [
              "(500526, 32)"
            ]
          },
          "metadata": {
            "tags": []
          },
          "execution_count": 28
        }
      ]
    },
    {
      "cell_type": "markdown",
      "metadata": {
        "id": "d0QQEeH7NcuF"
      },
      "source": [
        "COMPARECIMENTO NOS DIAS DAS PROVAS:\n",
        "\n",
        "500526 inscritos compareceram nos dois dias.\n",
        "\n",
        "185175 inscritos faltaram nos dois dias.\n",
        "\n",
        "33726 inscritos faltaram em um dos dias.\n",
        "\n"
      ]
    },
    {
      "cell_type": "code",
      "metadata": {
        "id": "IqSn42AEG3B7"
      },
      "source": [
        "#Eliminando todos que faltaram nos dois dias\n",
        "vestibulandos_presentes = vestibulandos.loc[vestibulandos.presenca_total != 0]"
      ],
      "execution_count": 29,
      "outputs": []
    },
    {
      "cell_type": "code",
      "metadata": {
        "id": "z_ZbjPSkIbTM",
        "outputId": "d4a75329-2fad-4e70-9d93-b9b2569b502f",
        "colab": {
          "base_uri": "https://localhost:8080/"
        }
      },
      "source": [
        "#Quantidade de valores NAN dos alunos presentes em pelo menos um dos dois dias de prova.\n",
        "vestibulandos_presentes[provas].isnull().sum()"
      ],
      "execution_count": 30,
      "outputs": [
        {
          "output_type": "execute_result",
          "data": {
            "text/plain": [
              "NU_NOTA_REDACAO     1451\n",
              "NU_NOTA_CN         33788\n",
              "NU_NOTA_MT         33788\n",
              "NU_NOTA_LC          1451\n",
              "NU_NOTA_CH          1451\n",
              "dtype: int64"
            ]
          },
          "metadata": {
            "tags": []
          },
          "execution_count": 30
        }
      ]
    },
    {
      "cell_type": "markdown",
      "metadata": {
        "id": "Z_DN45YDNsU0"
      },
      "source": [
        "Análise das faltas, já tendo excluídos os inscritos que faltaram nos dois dias e também os treineiros:\n",
        "\n",
        "1451 faltas no dia de prova de Redação, Linguagem e Códigos e Ciências Humanas.\n",
        "\n",
        "33788 faltas no dia da prova de Matemática e Ciências da Natureza.\n",
        "\n",
        "A avaliação de Matemática e Ciências da natureza ocorreu no segundo dia e, portanto, muitos dos que perderam a prova no primeiro dia não foram no segundo dia, pois já estavam eliminados, muitos desanimaram depois de fazer a prova do primeiro dia e muitos acabaram perdendo a prova no segundo dia.\n"
      ]
    },
    {
      "cell_type": "code",
      "metadata": {
        "id": "MP41kN969Saz",
        "outputId": "d8b9ec39-173a-451f-f6e1-9e38e9e77837",
        "colab": {
          "base_uri": "https://localhost:8080/"
        }
      },
      "source": [
        "vestibulandos_presentes.query('NU_NOTA_COMP5 == 0')['NU_NOTA_COMP5'].value_counts()"
      ],
      "execution_count": 31,
      "outputs": [
        {
          "output_type": "execute_result",
          "data": {
            "text/plain": [
              "0.0    85250\n",
              "Name: NU_NOTA_COMP5, dtype: int64"
            ]
          },
          "metadata": {
            "tags": []
          },
          "execution_count": 31
        }
      ]
    },
    {
      "cell_type": "markdown",
      "metadata": {
        "id": "SXBmTtkH_XDS"
      },
      "source": [
        "NOTAS ZEROS EM REDAÇÃO:\n",
        "\n",
        "REDAÇÃO (final): 13379 notas zeros devido a não cumprimento das regras ou tirou zero em todos os cinco componentes.\n",
        "\n",
        "COMPONENTE 1(Demonstrar domínio da modalidade escrita formal da Língua Portuguesa.): 9 notas zeros somente neste item.\n",
        "\n",
        "COMPONENTE 2 (Compreender a proposta de redação e aplicar conceitos das várias áreas de conhecimento para desenvolver o tema, dentro dos limites estruturais do texto dissertativo-argumentativo em prosa): nenhuma nota zero neste item. \n",
        "\n",
        "COMPONENTE 3 (Selecionar, relacionar, organizar e interpretar informações, fatos, opiniões e argumentos em defesa de um ponto de vista): 18 notas zeros somente neste item.\n",
        "\n",
        "COMPONENTE 4 (Demonstrar conhecimento dos mecanismos linguísticos necessários para a construção da argumentação.): 16 notas zeros somente neste item.\n",
        "\n",
        "COMPONENTE 5 (Elaborar proposta de intervenção para o problema abordado, respeitando os direitos humanos): 71871 notas zeros somente neste item.\n",
        "\n",
        "Além disso, teve mais 1451 pessoas que faltaram no dia da redação, mas compareceram no outro dia."
      ]
    },
    {
      "cell_type": "code",
      "metadata": {
        "id": "yklnn3l9UpWB"
      },
      "source": [
        "#Eliminando os estudantes que foram desclassificados por terem comparecido em apenas um dos dias, isto é ficando apenas com os que vão concorrer no vestibular.\n",
        "vestibulandos_classificados = vestibulandos_presentes.loc[vestibulandos_presentes.presenca_total == 4]"
      ],
      "execution_count": 47,
      "outputs": []
    },
    {
      "cell_type": "code",
      "metadata": {
        "id": "3FdNenqTIbdV",
        "outputId": "59b285bd-dd8b-4b73-c4c2-82a809adbec8",
        "colab": {
          "base_uri": "https://localhost:8080/"
        }
      },
      "source": [
        "# Substituindo NAN por 0 nas notas de redação, para ser possível realizar análises estatísticas e de Machine Learning.\n",
        "vestibulandos_classificados['NU_NOTA_REDACAO'].fillna(0, inplace=True)"
      ],
      "execution_count": 48,
      "outputs": [
        {
          "output_type": "stream",
          "text": [
            "/usr/local/lib/python3.6/dist-packages/pandas/core/series.py:4523: SettingWithCopyWarning: \n",
            "A value is trying to be set on a copy of a slice from a DataFrame\n",
            "\n",
            "See the caveats in the documentation: https://pandas.pydata.org/pandas-docs/stable/user_guide/indexing.html#returning-a-view-versus-a-copy\n",
            "  downcast=downcast,\n"
          ],
          "name": "stderr"
        }
      ]
    },
    {
      "cell_type": "code",
      "metadata": {
        "id": "VrwJ7plkYQcc",
        "outputId": "89f193ae-a438-4b47-d605-32a9df115358",
        "colab": {
          "base_uri": "https://localhost:8080/"
        }
      },
      "source": [
        "vestibulandos_classificados['NU_NOTA_COMP1'].fillna(0, inplace=True)"
      ],
      "execution_count": 49,
      "outputs": [
        {
          "output_type": "stream",
          "text": [
            "/usr/local/lib/python3.6/dist-packages/pandas/core/series.py:4523: SettingWithCopyWarning: \n",
            "A value is trying to be set on a copy of a slice from a DataFrame\n",
            "\n",
            "See the caveats in the documentation: https://pandas.pydata.org/pandas-docs/stable/user_guide/indexing.html#returning-a-view-versus-a-copy\n",
            "  downcast=downcast,\n"
          ],
          "name": "stderr"
        }
      ]
    },
    {
      "cell_type": "code",
      "metadata": {
        "id": "4ntoyfRcYQm7",
        "outputId": "9ebc545a-f7f0-4a44-e82a-2ed202a1de54",
        "colab": {
          "base_uri": "https://localhost:8080/"
        }
      },
      "source": [
        "vestibulandos_classificados['NU_NOTA_COMP2'].fillna(0, inplace=True)"
      ],
      "execution_count": 50,
      "outputs": [
        {
          "output_type": "stream",
          "text": [
            "/usr/local/lib/python3.6/dist-packages/pandas/core/series.py:4523: SettingWithCopyWarning: \n",
            "A value is trying to be set on a copy of a slice from a DataFrame\n",
            "\n",
            "See the caveats in the documentation: https://pandas.pydata.org/pandas-docs/stable/user_guide/indexing.html#returning-a-view-versus-a-copy\n",
            "  downcast=downcast,\n"
          ],
          "name": "stderr"
        }
      ]
    },
    {
      "cell_type": "code",
      "metadata": {
        "id": "-e7zSAnHYQxZ",
        "outputId": "b520605d-cf41-44aa-d671-38acd8678994",
        "colab": {
          "base_uri": "https://localhost:8080/"
        }
      },
      "source": [
        "vestibulandos_classificados['NU_NOTA_COMP3'].fillna(0, inplace=True)"
      ],
      "execution_count": 51,
      "outputs": [
        {
          "output_type": "stream",
          "text": [
            "/usr/local/lib/python3.6/dist-packages/pandas/core/series.py:4523: SettingWithCopyWarning: \n",
            "A value is trying to be set on a copy of a slice from a DataFrame\n",
            "\n",
            "See the caveats in the documentation: https://pandas.pydata.org/pandas-docs/stable/user_guide/indexing.html#returning-a-view-versus-a-copy\n",
            "  downcast=downcast,\n"
          ],
          "name": "stderr"
        }
      ]
    },
    {
      "cell_type": "code",
      "metadata": {
        "id": "jaxjiOyoY0GY",
        "outputId": "555672b1-1139-475f-dd47-5e19a7cea96d",
        "colab": {
          "base_uri": "https://localhost:8080/"
        }
      },
      "source": [
        "vestibulandos_classificados['NU_NOTA_COMP4'].fillna(0, inplace=True)"
      ],
      "execution_count": 52,
      "outputs": [
        {
          "output_type": "stream",
          "text": [
            "/usr/local/lib/python3.6/dist-packages/pandas/core/series.py:4523: SettingWithCopyWarning: \n",
            "A value is trying to be set on a copy of a slice from a DataFrame\n",
            "\n",
            "See the caveats in the documentation: https://pandas.pydata.org/pandas-docs/stable/user_guide/indexing.html#returning-a-view-versus-a-copy\n",
            "  downcast=downcast,\n"
          ],
          "name": "stderr"
        }
      ]
    },
    {
      "cell_type": "code",
      "metadata": {
        "id": "I3sMrjkCY0SX",
        "outputId": "ad9d08a8-158f-45f8-a466-9753e18f0472",
        "colab": {
          "base_uri": "https://localhost:8080/"
        }
      },
      "source": [
        "vestibulandos_classificados['NU_NOTA_COMP5'].fillna(0, inplace=True)"
      ],
      "execution_count": 53,
      "outputs": [
        {
          "output_type": "stream",
          "text": [
            "/usr/local/lib/python3.6/dist-packages/pandas/core/series.py:4523: SettingWithCopyWarning: \n",
            "A value is trying to be set on a copy of a slice from a DataFrame\n",
            "\n",
            "See the caveats in the documentation: https://pandas.pydata.org/pandas-docs/stable/user_guide/indexing.html#returning-a-view-versus-a-copy\n",
            "  downcast=downcast,\n"
          ],
          "name": "stderr"
        }
      ]
    },
    {
      "cell_type": "code",
      "metadata": {
        "id": "JRUGwY--IbbI",
        "outputId": "3907be3d-5b36-410b-a4a5-34c904c9f230",
        "colab": {
          "base_uri": "https://localhost:8080/",
          "height": 224
        }
      },
      "source": [
        "vestibulandos_classificados.head()"
      ],
      "execution_count": 54,
      "outputs": [
        {
          "output_type": "execute_result",
          "data": {
            "text/html": [
              "<div>\n",
              "<style scoped>\n",
              "    .dataframe tbody tr th:only-of-type {\n",
              "        vertical-align: middle;\n",
              "    }\n",
              "\n",
              "    .dataframe tbody tr th {\n",
              "        vertical-align: top;\n",
              "    }\n",
              "\n",
              "    .dataframe thead th {\n",
              "        text-align: right;\n",
              "    }\n",
              "</style>\n",
              "<table border=\"1\" class=\"dataframe\">\n",
              "  <thead>\n",
              "    <tr style=\"text-align: right;\">\n",
              "      <th></th>\n",
              "      <th>NU_INSCRICAO</th>\n",
              "      <th>NU_ANO</th>\n",
              "      <th>NO_MUNICIPIO_RESIDENCIA</th>\n",
              "      <th>SG_UF_RESIDENCIA</th>\n",
              "      <th>NU_IDADE</th>\n",
              "      <th>TP_SEXO</th>\n",
              "      <th>TP_COR_RACA</th>\n",
              "      <th>TP_NACIONALIDADE</th>\n",
              "      <th>TP_ESCOLA</th>\n",
              "      <th>IN_TREINEIRO</th>\n",
              "      <th>CO_ESCOLA</th>\n",
              "      <th>TP_PRESENCA_CN</th>\n",
              "      <th>TP_PRESENCA_CH</th>\n",
              "      <th>TP_PRESENCA_LC</th>\n",
              "      <th>TP_PRESENCA_MT</th>\n",
              "      <th>NU_NOTA_CN</th>\n",
              "      <th>NOTA_CN</th>\n",
              "      <th>NU_NOTA_CH</th>\n",
              "      <th>NOTA_CH</th>\n",
              "      <th>NU_NOTA_LC</th>\n",
              "      <th>NOTA_LC</th>\n",
              "      <th>NU_NOTA_MT</th>\n",
              "      <th>NOTA_MT</th>\n",
              "      <th>TP_LINGUA</th>\n",
              "      <th>TP_STATUS_REDACAO</th>\n",
              "      <th>NU_NOTA_COMP1</th>\n",
              "      <th>NU_NOTA_COMP2</th>\n",
              "      <th>NU_NOTA_COMP3</th>\n",
              "      <th>NU_NOTA_COMP4</th>\n",
              "      <th>NU_NOTA_COMP5</th>\n",
              "      <th>NU_NOTA_REDACAO</th>\n",
              "      <th>presenca_total</th>\n",
              "    </tr>\n",
              "  </thead>\n",
              "  <tbody>\n",
              "    <tr>\n",
              "      <th>0</th>\n",
              "      <td>1.900010e+11</td>\n",
              "      <td>2019</td>\n",
              "      <td>Santa Isabel</td>\n",
              "      <td>SP</td>\n",
              "      <td>22</td>\n",
              "      <td>M</td>\n",
              "      <td>3</td>\n",
              "      <td>1</td>\n",
              "      <td>1</td>\n",
              "      <td>0</td>\n",
              "      <td>NaN</td>\n",
              "      <td>1</td>\n",
              "      <td>1</td>\n",
              "      <td>1</td>\n",
              "      <td>1</td>\n",
              "      <td>5646.0</td>\n",
              "      <td>564.6</td>\n",
              "      <td>5858.0</td>\n",
              "      <td>585.8</td>\n",
              "      <td>5929.0</td>\n",
              "      <td>592.9</td>\n",
              "      <td>6002.0</td>\n",
              "      <td>600.2</td>\n",
              "      <td>0</td>\n",
              "      <td>1.0</td>\n",
              "      <td>160.0</td>\n",
              "      <td>200.0</td>\n",
              "      <td>180.0</td>\n",
              "      <td>200.0</td>\n",
              "      <td>200.0</td>\n",
              "      <td>940.0</td>\n",
              "      <td>4</td>\n",
              "    </tr>\n",
              "    <tr>\n",
              "      <th>2</th>\n",
              "      <td>1.900010e+11</td>\n",
              "      <td>2019</td>\n",
              "      <td>São Paulo</td>\n",
              "      <td>SP</td>\n",
              "      <td>17</td>\n",
              "      <td>F</td>\n",
              "      <td>3</td>\n",
              "      <td>1</td>\n",
              "      <td>3</td>\n",
              "      <td>0</td>\n",
              "      <td>15567761.0</td>\n",
              "      <td>1</td>\n",
              "      <td>1</td>\n",
              "      <td>1</td>\n",
              "      <td>1</td>\n",
              "      <td>5762.0</td>\n",
              "      <td>576.2</td>\n",
              "      <td>6411.0</td>\n",
              "      <td>641.1</td>\n",
              "      <td>6343.0</td>\n",
              "      <td>634.3</td>\n",
              "      <td>7318.0</td>\n",
              "      <td>731.8</td>\n",
              "      <td>0</td>\n",
              "      <td>1.0</td>\n",
              "      <td>160.0</td>\n",
              "      <td>120.0</td>\n",
              "      <td>200.0</td>\n",
              "      <td>200.0</td>\n",
              "      <td>200.0</td>\n",
              "      <td>880.0</td>\n",
              "      <td>4</td>\n",
              "    </tr>\n",
              "    <tr>\n",
              "      <th>3</th>\n",
              "      <td>1.900010e+11</td>\n",
              "      <td>2019</td>\n",
              "      <td>São Bernardo do Campo</td>\n",
              "      <td>SP</td>\n",
              "      <td>19</td>\n",
              "      <td>M</td>\n",
              "      <td>3</td>\n",
              "      <td>1</td>\n",
              "      <td>2</td>\n",
              "      <td>0</td>\n",
              "      <td>35904958.0</td>\n",
              "      <td>1</td>\n",
              "      <td>1</td>\n",
              "      <td>1</td>\n",
              "      <td>1</td>\n",
              "      <td>4022.0</td>\n",
              "      <td>402.2</td>\n",
              "      <td>4248.0</td>\n",
              "      <td>424.8</td>\n",
              "      <td>5096.0</td>\n",
              "      <td>509.6</td>\n",
              "      <td>3932.0</td>\n",
              "      <td>393.2</td>\n",
              "      <td>1</td>\n",
              "      <td>1.0</td>\n",
              "      <td>80.0</td>\n",
              "      <td>160.0</td>\n",
              "      <td>120.0</td>\n",
              "      <td>100.0</td>\n",
              "      <td>100.0</td>\n",
              "      <td>560.0</td>\n",
              "      <td>4</td>\n",
              "    </tr>\n",
              "    <tr>\n",
              "      <th>5</th>\n",
              "      <td>1.900010e+11</td>\n",
              "      <td>2019</td>\n",
              "      <td>Embu-Guaçu</td>\n",
              "      <td>SP</td>\n",
              "      <td>17</td>\n",
              "      <td>F</td>\n",
              "      <td>3</td>\n",
              "      <td>1</td>\n",
              "      <td>2</td>\n",
              "      <td>0</td>\n",
              "      <td>NaN</td>\n",
              "      <td>1</td>\n",
              "      <td>1</td>\n",
              "      <td>1</td>\n",
              "      <td>1</td>\n",
              "      <td>3996.0</td>\n",
              "      <td>399.6</td>\n",
              "      <td>4268.0</td>\n",
              "      <td>426.8</td>\n",
              "      <td>4872.0</td>\n",
              "      <td>487.2</td>\n",
              "      <td>4192.0</td>\n",
              "      <td>419.2</td>\n",
              "      <td>0</td>\n",
              "      <td>1.0</td>\n",
              "      <td>120.0</td>\n",
              "      <td>120.0</td>\n",
              "      <td>120.0</td>\n",
              "      <td>120.0</td>\n",
              "      <td>80.0</td>\n",
              "      <td>560.0</td>\n",
              "      <td>4</td>\n",
              "    </tr>\n",
              "    <tr>\n",
              "      <th>8</th>\n",
              "      <td>1.900010e+11</td>\n",
              "      <td>2019</td>\n",
              "      <td>Guarulhos</td>\n",
              "      <td>SP</td>\n",
              "      <td>23</td>\n",
              "      <td>F</td>\n",
              "      <td>1</td>\n",
              "      <td>1</td>\n",
              "      <td>1</td>\n",
              "      <td>0</td>\n",
              "      <td>NaN</td>\n",
              "      <td>1</td>\n",
              "      <td>1</td>\n",
              "      <td>1</td>\n",
              "      <td>1</td>\n",
              "      <td>6257.0</td>\n",
              "      <td>625.7</td>\n",
              "      <td>6465.0</td>\n",
              "      <td>646.5</td>\n",
              "      <td>6293.0</td>\n",
              "      <td>629.3</td>\n",
              "      <td>7961.0</td>\n",
              "      <td>796.1</td>\n",
              "      <td>0</td>\n",
              "      <td>1.0</td>\n",
              "      <td>160.0</td>\n",
              "      <td>200.0</td>\n",
              "      <td>180.0</td>\n",
              "      <td>180.0</td>\n",
              "      <td>160.0</td>\n",
              "      <td>880.0</td>\n",
              "      <td>4</td>\n",
              "    </tr>\n",
              "  </tbody>\n",
              "</table>\n",
              "</div>"
            ],
            "text/plain": [
              "   NU_INSCRICAO  NU_ANO  ... NU_NOTA_REDACAO presenca_total\n",
              "0  1.900010e+11    2019  ...           940.0              4\n",
              "2  1.900010e+11    2019  ...           880.0              4\n",
              "3  1.900010e+11    2019  ...           560.0              4\n",
              "5  1.900010e+11    2019  ...           560.0              4\n",
              "8  1.900010e+11    2019  ...           880.0              4\n",
              "\n",
              "[5 rows x 32 columns]"
            ]
          },
          "metadata": {
            "tags": []
          },
          "execution_count": 54
        }
      ]
    },
    {
      "cell_type": "code",
      "metadata": {
        "id": "KQcGE5TRIbZI",
        "outputId": "df102362-6ad1-4798-c539-f5122af7ffc0",
        "colab": {
          "base_uri": "https://localhost:8080/"
        }
      },
      "source": [
        "# O dataframe já possui colunas com todas as notas, exceto para redação, com zeros ao invés de NAN, essas colunas não tem o NU_ antes da palavra nota. \n",
        "vestibulandos_classificados[provas].isnull().sum()"
      ],
      "execution_count": 55,
      "outputs": [
        {
          "output_type": "execute_result",
          "data": {
            "text/plain": [
              "NU_NOTA_REDACAO      0\n",
              "NU_NOTA_CN         586\n",
              "NU_NOTA_MT         586\n",
              "NU_NOTA_LC         586\n",
              "NU_NOTA_CH         586\n",
              "dtype: int64"
            ]
          },
          "metadata": {
            "tags": []
          },
          "execution_count": 55
        }
      ]
    },
    {
      "cell_type": "code",
      "metadata": {
        "id": "_U5b7JZDY7N4"
      },
      "source": [
        "notas_redacao = ['NU_NOTA_COMP1','NU_NOTA_COMP2','NU_NOTA_COMP3','NU_NOTA_COMP4','NU_NOTA_COMP5','NU_NOTA_REDACAO']"
      ],
      "execution_count": 56,
      "outputs": []
    },
    {
      "cell_type": "code",
      "metadata": {
        "id": "s614qP1ZZlRz",
        "outputId": "ceea67c4-5188-45ba-b620-abf3b53ff136",
        "colab": {
          "base_uri": "https://localhost:8080/",
          "height": 204
        }
      },
      "source": [
        "vestibulandos_classificados[notas_redacao].head()"
      ],
      "execution_count": 57,
      "outputs": [
        {
          "output_type": "execute_result",
          "data": {
            "text/html": [
              "<div>\n",
              "<style scoped>\n",
              "    .dataframe tbody tr th:only-of-type {\n",
              "        vertical-align: middle;\n",
              "    }\n",
              "\n",
              "    .dataframe tbody tr th {\n",
              "        vertical-align: top;\n",
              "    }\n",
              "\n",
              "    .dataframe thead th {\n",
              "        text-align: right;\n",
              "    }\n",
              "</style>\n",
              "<table border=\"1\" class=\"dataframe\">\n",
              "  <thead>\n",
              "    <tr style=\"text-align: right;\">\n",
              "      <th></th>\n",
              "      <th>NU_NOTA_COMP1</th>\n",
              "      <th>NU_NOTA_COMP2</th>\n",
              "      <th>NU_NOTA_COMP3</th>\n",
              "      <th>NU_NOTA_COMP4</th>\n",
              "      <th>NU_NOTA_COMP5</th>\n",
              "      <th>NU_NOTA_REDACAO</th>\n",
              "    </tr>\n",
              "  </thead>\n",
              "  <tbody>\n",
              "    <tr>\n",
              "      <th>0</th>\n",
              "      <td>160.0</td>\n",
              "      <td>200.0</td>\n",
              "      <td>180.0</td>\n",
              "      <td>200.0</td>\n",
              "      <td>200.0</td>\n",
              "      <td>940.0</td>\n",
              "    </tr>\n",
              "    <tr>\n",
              "      <th>2</th>\n",
              "      <td>160.0</td>\n",
              "      <td>120.0</td>\n",
              "      <td>200.0</td>\n",
              "      <td>200.0</td>\n",
              "      <td>200.0</td>\n",
              "      <td>880.0</td>\n",
              "    </tr>\n",
              "    <tr>\n",
              "      <th>3</th>\n",
              "      <td>80.0</td>\n",
              "      <td>160.0</td>\n",
              "      <td>120.0</td>\n",
              "      <td>100.0</td>\n",
              "      <td>100.0</td>\n",
              "      <td>560.0</td>\n",
              "    </tr>\n",
              "    <tr>\n",
              "      <th>5</th>\n",
              "      <td>120.0</td>\n",
              "      <td>120.0</td>\n",
              "      <td>120.0</td>\n",
              "      <td>120.0</td>\n",
              "      <td>80.0</td>\n",
              "      <td>560.0</td>\n",
              "    </tr>\n",
              "    <tr>\n",
              "      <th>8</th>\n",
              "      <td>160.0</td>\n",
              "      <td>200.0</td>\n",
              "      <td>180.0</td>\n",
              "      <td>180.0</td>\n",
              "      <td>160.0</td>\n",
              "      <td>880.0</td>\n",
              "    </tr>\n",
              "  </tbody>\n",
              "</table>\n",
              "</div>"
            ],
            "text/plain": [
              "   NU_NOTA_COMP1  NU_NOTA_COMP2  ...  NU_NOTA_COMP5  NU_NOTA_REDACAO\n",
              "0          160.0          200.0  ...          200.0            940.0\n",
              "2          160.0          120.0  ...          200.0            880.0\n",
              "3           80.0          160.0  ...          100.0            560.0\n",
              "5          120.0          120.0  ...           80.0            560.0\n",
              "8          160.0          200.0  ...          160.0            880.0\n",
              "\n",
              "[5 rows x 6 columns]"
            ]
          },
          "metadata": {
            "tags": []
          },
          "execution_count": 57
        }
      ]
    },
    {
      "cell_type": "code",
      "metadata": {
        "id": "I_jBmT-WZ5H3",
        "outputId": "97e9e4c8-e1ae-4e28-eb88-c3b896242a9e",
        "colab": {
          "base_uri": "https://localhost:8080/"
        }
      },
      "source": [
        "vestibulandos_classificados[notas_redacao].isnull().sum()"
      ],
      "execution_count": 58,
      "outputs": [
        {
          "output_type": "execute_result",
          "data": {
            "text/plain": [
              "NU_NOTA_COMP1      0\n",
              "NU_NOTA_COMP2      0\n",
              "NU_NOTA_COMP3      0\n",
              "NU_NOTA_COMP4      0\n",
              "NU_NOTA_COMP5      0\n",
              "NU_NOTA_REDACAO    0\n",
              "dtype: int64"
            ]
          },
          "metadata": {
            "tags": []
          },
          "execution_count": 58
        }
      ]
    },
    {
      "cell_type": "code",
      "metadata": {
        "id": "Nj7r7R_PaFJ_"
      },
      "source": [
        "# Notas dos cinco componentes sem NAN\n",
        "notas_componentes = ['NU_NOTA_REDACAO','NOTA_CN','NOTA_MT','NOTA_LC','NOTA_CH']"
      ],
      "execution_count": 59,
      "outputs": []
    },
    {
      "cell_type": "code",
      "metadata": {
        "id": "XW8MzStIaWG4",
        "outputId": "148f2fcf-dbc3-4902-d019-6b3afab9a1b5",
        "colab": {
          "base_uri": "https://localhost:8080/"
        }
      },
      "source": [
        "vestibulandos_classificados[notas_componentes].isnull().sum()"
      ],
      "execution_count": 60,
      "outputs": [
        {
          "output_type": "execute_result",
          "data": {
            "text/plain": [
              "NU_NOTA_REDACAO    0\n",
              "NOTA_CN            0\n",
              "NOTA_MT            0\n",
              "NOTA_LC            0\n",
              "NOTA_CH            0\n",
              "dtype: int64"
            ]
          },
          "metadata": {
            "tags": []
          },
          "execution_count": 60
        }
      ]
    },
    {
      "cell_type": "code",
      "metadata": {
        "id": "gzalNqvXX3Um",
        "outputId": "252cffe9-d471-44bb-903d-b7d777ccdb7d",
        "colab": {
          "base_uri": "https://localhost:8080/"
        }
      },
      "source": [
        "vestibulandos_classificados.query('NOTA_CH == 0')['NOTA_CH'].value_counts()"
      ],
      "execution_count": 65,
      "outputs": [
        {
          "output_type": "execute_result",
          "data": {
            "text/plain": [
              "0.0    929\n",
              "Name: NOTA_CH, dtype: int64"
            ]
          },
          "metadata": {
            "tags": []
          },
          "execution_count": 65
        }
      ]
    },
    {
      "cell_type": "markdown",
      "metadata": {
        "id": "rK5rF8niYee_"
      },
      "source": [
        "NOTAS ZEROS DOS INSCRITOS CONCORRENTES AO VESTIBULAR:\n",
        "\n",
        "Matemática = 642\n",
        "\n",
        "Ciências da Natureza = 622\n",
        "\n",
        "Linguagens e Códigos = 721\n",
        "\n",
        "Ciências Humanas = 929\n",
        "\n",
        "Redação = 9767\n"
      ]
    },
    {
      "cell_type": "markdown",
      "metadata": {
        "id": "qWgHH4zRdW-m"
      },
      "source": [
        "## **ANÁLISES ESTATÍSTICAS**"
      ]
    },
    {
      "cell_type": "code",
      "metadata": {
        "id": "-aYh3q9sxjnU",
        "outputId": "cfee9c0f-fe69-4388-b463-e67521f2d6b1",
        "colab": {
          "base_uri": "https://localhost:8080/"
        }
      },
      "source": [
        "# relação entre homens e mulheres inscritos.\n",
        "dados['TP_SEXO'].value_counts()"
      ],
      "execution_count": 66,
      "outputs": [
        {
          "output_type": "execute_result",
          "data": {
            "text/plain": [
              "F    480164\n",
              "M    333608\n",
              "Name: TP_SEXO, dtype: int64"
            ]
          },
          "metadata": {
            "tags": []
          },
          "execution_count": 66
        }
      ]
    },
    {
      "cell_type": "code",
      "metadata": {
        "id": "ePUSvOCTAm2T",
        "outputId": "47d1a652-e683-4b49-d2e7-09d386b41e60",
        "colab": {
          "base_uri": "https://localhost:8080/",
          "height": 385
        }
      },
      "source": [
        "dados.TP_SEXO.value_counts().plot(figsize=(6,6),kind='pie', autopct='%.1f%%', fontsize=15)\n",
        "plt.axis('equal')\n",
        "plt.title('RELAÇÃO ENTRE HOMENS(M) E MULHERES (F)', loc = 'right', fontsize=20);"
      ],
      "execution_count": 67,
      "outputs": [
        {
          "output_type": "display_data",
          "data": {
            "image/png": "[encoded data removed]",
            "text/plain": [
              "<Figure size 432x432 with 1 Axes>"
            ]
          },
          "metadata": {
            "tags": []
          }
        }
      ]
    },
    {
      "cell_type": "code",
      "metadata": {
        "id": "6zjGUt7zRnID",
        "outputId": "96fafab5-3569-40a6-d661-02a37980f984",
        "colab": {
          "base_uri": "https://localhost:8080/"
        }
      },
      "source": [
        "#RELAÇÃO ENTRE HOMENS E MULHERES QUE FIZERAM A PROVA\n",
        "vestibulandos_presentes['TP_SEXO'].value_counts()"
      ],
      "execution_count": 68,
      "outputs": [
        {
          "output_type": "execute_result",
          "data": {
            "text/plain": [
              "F    311525\n",
              "M    223068\n",
              "Name: TP_SEXO, dtype: int64"
            ]
          },
          "metadata": {
            "tags": []
          },
          "execution_count": 68
        }
      ]
    },
    {
      "cell_type": "code",
      "metadata": {
        "id": "Iq2XuDrUR5uy",
        "outputId": "eb73117c-c0e0-4fc6-e6ac-b54356d3d517",
        "colab": {
          "base_uri": "https://localhost:8080/",
          "height": 386
        }
      },
      "source": [
        "vestibulandos_presentes.TP_SEXO.value_counts().plot(figsize=(6,6),kind='pie', autopct='%.1f%%', fontsize=15)\n",
        "plt.axis('equal')\n",
        "plt.title('RELAÇÃO ENTRE HOMENS(M) E MULHERES (F)', loc = 'right', fontsize=20);"
      ],
      "execution_count": 69,
      "outputs": [
        {
          "output_type": "display_data",
          "data": {
            "image/png": "[encoded data removed]",
            "text/plain": [
              "<Figure size 432x432 with 1 Axes>"
            ]
          },
          "metadata": {
            "tags": []
          }
        }
      ]
    }
  ]
}